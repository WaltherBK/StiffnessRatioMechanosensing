{
 "cells": [
  {
   "cell_type": "markdown",
   "metadata": {},
   "source": [
    "# Superresolution Dev"
   ]
  },
  {
   "cell_type": "code",
   "execution_count": 3,
   "metadata": {},
   "outputs": [],
   "source": [
    "import importlib\n",
    "import confocal\n",
    "importlib.reload(confocal)\n",
    "\n",
    "import glob, os\n",
    "import numpy as np\n",
    "import matplotlib.pyplot as plt\n",
    "import h5py\n",
    "import imageio\n",
    "import re\n",
    "from scipy.ndimage.morphology import binary_dilation\n",
    "from scipy.ndimage.measurements import center_of_mass\n",
    "from scipy.interpolate import interp2d,RegularGridInterpolator\n",
    "from random import random\n",
    "from tqdm import tqdm\n",
    "from scipy.interpolate import interp1d\n",
    "\n",
    "from itertools import accumulate\n",
    "from skimage.measure import find_contours\n",
    "from scipy.spatial import ConvexHull\n",
    "from skimage import io"
   ]
  },
  {
   "cell_type": "markdown",
   "metadata": {},
   "source": [
    "## SR1"
   ]
  },
  {
   "cell_type": "code",
   "execution_count": 4,
   "metadata": {},
   "outputs": [
    {
     "name": "stderr",
     "output_type": "stream",
     "text": [
      "OME series: incompatible page shape (2048, 2048, 3); expected (3, 2048, 2048)\n"
     ]
    },
    {
     "name": "stdout",
     "output_type": "stream",
     "text": [
      "35\n",
      "Intensity_Z000 (2048, 2048, 3)\n"
     ]
    },
    {
     "name": "stderr",
     "output_type": "stream",
     "text": [
      "OME series: incompatible page shape (2048, 2048, 3); expected (3, 2048, 2048)\n"
     ]
    },
    {
     "name": "stdout",
     "output_type": "stream",
     "text": [
      "Intensity_Z001 (2048, 2048, 3)\n"
     ]
    },
    {
     "name": "stderr",
     "output_type": "stream",
     "text": [
      "OME series: incompatible page shape (2048, 2048, 3); expected (3, 2048, 2048)\n"
     ]
    },
    {
     "name": "stdout",
     "output_type": "stream",
     "text": [
      "Intensity_Z002 (2048, 2048, 3)\n"
     ]
    },
    {
     "name": "stderr",
     "output_type": "stream",
     "text": [
      "OME series: incompatible page shape (2048, 2048, 3); expected (3, 2048, 2048)\n"
     ]
    },
    {
     "name": "stdout",
     "output_type": "stream",
     "text": [
      "Intensity_Z003 (2048, 2048, 3)\n"
     ]
    },
    {
     "name": "stderr",
     "output_type": "stream",
     "text": [
      "OME series: incompatible page shape (2048, 2048, 3); expected (3, 2048, 2048)\n"
     ]
    },
    {
     "name": "stdout",
     "output_type": "stream",
     "text": [
      "Intensity_Z004 (2048, 2048, 3)\n"
     ]
    },
    {
     "name": "stderr",
     "output_type": "stream",
     "text": [
      "OME series: incompatible page shape (2048, 2048, 3); expected (3, 2048, 2048)\n"
     ]
    },
    {
     "name": "stdout",
     "output_type": "stream",
     "text": [
      "Intensity_Z005 (2048, 2048, 3)\n"
     ]
    },
    {
     "name": "stderr",
     "output_type": "stream",
     "text": [
      "OME series: incompatible page shape (2048, 2048, 3); expected (3, 2048, 2048)\n"
     ]
    },
    {
     "name": "stdout",
     "output_type": "stream",
     "text": [
      "Intensity_Z006 (2048, 2048, 3)\n"
     ]
    },
    {
     "name": "stderr",
     "output_type": "stream",
     "text": [
      "OME series: incompatible page shape (2048, 2048, 3); expected (3, 2048, 2048)\n"
     ]
    },
    {
     "name": "stdout",
     "output_type": "stream",
     "text": [
      "Intensity_Z007 (2048, 2048, 3)\n"
     ]
    },
    {
     "name": "stderr",
     "output_type": "stream",
     "text": [
      "OME series: incompatible page shape (2048, 2048, 3); expected (3, 2048, 2048)\n"
     ]
    },
    {
     "name": "stdout",
     "output_type": "stream",
     "text": [
      "Intensity_Z008 (2048, 2048, 3)\n"
     ]
    },
    {
     "name": "stderr",
     "output_type": "stream",
     "text": [
      "OME series: incompatible page shape (2048, 2048, 3); expected (3, 2048, 2048)\n"
     ]
    },
    {
     "name": "stdout",
     "output_type": "stream",
     "text": [
      "Intensity_Z009 (2048, 2048, 3)\n"
     ]
    },
    {
     "name": "stderr",
     "output_type": "stream",
     "text": [
      "OME series: incompatible page shape (2048, 2048, 3); expected (3, 2048, 2048)\n"
     ]
    },
    {
     "name": "stdout",
     "output_type": "stream",
     "text": [
      "Intensity_Z010 (2048, 2048, 3)\n"
     ]
    },
    {
     "name": "stderr",
     "output_type": "stream",
     "text": [
      "OME series: incompatible page shape (2048, 2048, 3); expected (3, 2048, 2048)\n"
     ]
    },
    {
     "name": "stdout",
     "output_type": "stream",
     "text": [
      "Intensity_Z011 (2048, 2048, 3)\n"
     ]
    },
    {
     "name": "stderr",
     "output_type": "stream",
     "text": [
      "OME series: incompatible page shape (2048, 2048, 3); expected (3, 2048, 2048)\n"
     ]
    },
    {
     "name": "stdout",
     "output_type": "stream",
     "text": [
      "Intensity_Z012 (2048, 2048, 3)\n"
     ]
    },
    {
     "name": "stderr",
     "output_type": "stream",
     "text": [
      "OME series: incompatible page shape (2048, 2048, 3); expected (3, 2048, 2048)\n"
     ]
    },
    {
     "name": "stdout",
     "output_type": "stream",
     "text": [
      "Intensity_Z013 (2048, 2048, 3)\n"
     ]
    },
    {
     "name": "stderr",
     "output_type": "stream",
     "text": [
      "OME series: incompatible page shape (2048, 2048, 3); expected (3, 2048, 2048)\n"
     ]
    },
    {
     "name": "stdout",
     "output_type": "stream",
     "text": [
      "Intensity_Z014 (2048, 2048, 3)\n"
     ]
    },
    {
     "name": "stderr",
     "output_type": "stream",
     "text": [
      "OME series: incompatible page shape (2048, 2048, 3); expected (3, 2048, 2048)\n"
     ]
    },
    {
     "name": "stdout",
     "output_type": "stream",
     "text": [
      "Intensity_Z015 (2048, 2048, 3)\n"
     ]
    },
    {
     "name": "stderr",
     "output_type": "stream",
     "text": [
      "OME series: incompatible page shape (2048, 2048, 3); expected (3, 2048, 2048)\n"
     ]
    },
    {
     "name": "stdout",
     "output_type": "stream",
     "text": [
      "Intensity_Z016 (2048, 2048, 3)\n"
     ]
    },
    {
     "name": "stderr",
     "output_type": "stream",
     "text": [
      "OME series: incompatible page shape (2048, 2048, 3); expected (3, 2048, 2048)\n"
     ]
    },
    {
     "name": "stdout",
     "output_type": "stream",
     "text": [
      "Intensity_Z017 (2048, 2048, 3)\n"
     ]
    },
    {
     "name": "stderr",
     "output_type": "stream",
     "text": [
      "OME series: incompatible page shape (2048, 2048, 3); expected (3, 2048, 2048)\n"
     ]
    },
    {
     "name": "stdout",
     "output_type": "stream",
     "text": [
      "Intensity_Z018 (2048, 2048, 3)\n"
     ]
    },
    {
     "name": "stderr",
     "output_type": "stream",
     "text": [
      "OME series: incompatible page shape (2048, 2048, 3); expected (3, 2048, 2048)\n"
     ]
    },
    {
     "name": "stdout",
     "output_type": "stream",
     "text": [
      "Intensity_Z019 (2048, 2048, 3)\n"
     ]
    },
    {
     "name": "stderr",
     "output_type": "stream",
     "text": [
      "OME series: incompatible page shape (2048, 2048, 3); expected (3, 2048, 2048)\n"
     ]
    },
    {
     "name": "stdout",
     "output_type": "stream",
     "text": [
      "Intensity_Z020 (2048, 2048, 3)\n"
     ]
    },
    {
     "name": "stderr",
     "output_type": "stream",
     "text": [
      "OME series: incompatible page shape (2048, 2048, 3); expected (3, 2048, 2048)\n"
     ]
    },
    {
     "name": "stdout",
     "output_type": "stream",
     "text": [
      "Intensity_Z021 (2048, 2048, 3)\n"
     ]
    },
    {
     "name": "stderr",
     "output_type": "stream",
     "text": [
      "OME series: incompatible page shape (2048, 2048, 3); expected (3, 2048, 2048)\n"
     ]
    },
    {
     "name": "stdout",
     "output_type": "stream",
     "text": [
      "Intensity_Z022 (2048, 2048, 3)\n"
     ]
    },
    {
     "name": "stderr",
     "output_type": "stream",
     "text": [
      "OME series: incompatible page shape (2048, 2048, 3); expected (3, 2048, 2048)\n"
     ]
    },
    {
     "name": "stdout",
     "output_type": "stream",
     "text": [
      "Intensity_Z023 (2048, 2048, 3)\n"
     ]
    },
    {
     "name": "stderr",
     "output_type": "stream",
     "text": [
      "OME series: incompatible page shape (2048, 2048, 3); expected (3, 2048, 2048)\n"
     ]
    },
    {
     "name": "stdout",
     "output_type": "stream",
     "text": [
      "Intensity_Z024 (2048, 2048, 3)\n"
     ]
    },
    {
     "name": "stderr",
     "output_type": "stream",
     "text": [
      "OME series: incompatible page shape (2048, 2048, 3); expected (3, 2048, 2048)\n"
     ]
    },
    {
     "name": "stdout",
     "output_type": "stream",
     "text": [
      "Intensity_Z025 (2048, 2048, 3)\n"
     ]
    },
    {
     "name": "stderr",
     "output_type": "stream",
     "text": [
      "OME series: incompatible page shape (2048, 2048, 3); expected (3, 2048, 2048)\n"
     ]
    },
    {
     "name": "stdout",
     "output_type": "stream",
     "text": [
      "Intensity_Z026 (2048, 2048, 3)\n"
     ]
    },
    {
     "name": "stderr",
     "output_type": "stream",
     "text": [
      "OME series: incompatible page shape (2048, 2048, 3); expected (3, 2048, 2048)\n"
     ]
    },
    {
     "name": "stdout",
     "output_type": "stream",
     "text": [
      "Intensity_Z027 (2048, 2048, 3)\n"
     ]
    },
    {
     "name": "stderr",
     "output_type": "stream",
     "text": [
      "OME series: incompatible page shape (2048, 2048, 3); expected (3, 2048, 2048)\n"
     ]
    },
    {
     "name": "stdout",
     "output_type": "stream",
     "text": [
      "Intensity_Z028 (2048, 2048, 3)\n"
     ]
    },
    {
     "name": "stderr",
     "output_type": "stream",
     "text": [
      "OME series: incompatible page shape (2048, 2048, 3); expected (3, 2048, 2048)\n"
     ]
    },
    {
     "name": "stdout",
     "output_type": "stream",
     "text": [
      "Intensity_Z029 (2048, 2048, 3)\n"
     ]
    },
    {
     "name": "stderr",
     "output_type": "stream",
     "text": [
      "OME series: incompatible page shape (2048, 2048, 3); expected (3, 2048, 2048)\n"
     ]
    },
    {
     "name": "stdout",
     "output_type": "stream",
     "text": [
      "Intensity_Z030 (2048, 2048, 3)\n"
     ]
    },
    {
     "name": "stderr",
     "output_type": "stream",
     "text": [
      "OME series: incompatible page shape (2048, 2048, 3); expected (3, 2048, 2048)\n"
     ]
    },
    {
     "name": "stdout",
     "output_type": "stream",
     "text": [
      "Intensity_Z031 (2048, 2048, 3)\n"
     ]
    },
    {
     "name": "stderr",
     "output_type": "stream",
     "text": [
      "OME series: incompatible page shape (2048, 2048, 3); expected (3, 2048, 2048)\n"
     ]
    },
    {
     "name": "stdout",
     "output_type": "stream",
     "text": [
      "Intensity_Z032 (2048, 2048, 3)\n"
     ]
    },
    {
     "name": "stderr",
     "output_type": "stream",
     "text": [
      "OME series: incompatible page shape (2048, 2048, 3); expected (3, 2048, 2048)\n"
     ]
    },
    {
     "name": "stdout",
     "output_type": "stream",
     "text": [
      "Intensity_Z033 (2048, 2048, 3)\n"
     ]
    },
    {
     "name": "stderr",
     "output_type": "stream",
     "text": [
      "OME series: incompatible page shape (2048, 2048, 3); expected (3, 2048, 2048)\n"
     ]
    },
    {
     "name": "stdout",
     "output_type": "stream",
     "text": [
      "Intensity_Z034 (2048, 2048, 3)\n"
     ]
    }
   ],
   "source": [
    "# Special exporting\n",
    "import imageio\n",
    "\n",
    "def export_sr_tifs(target_dir, source_folder, fname_stub='Intensity_Z', as_colors=None):\n",
    "\n",
    "    fnames_tif = list(sorted(glob.glob(os.path.join(source_folder,'*.tif'))))\n",
    "    print(len(fnames_tif))\n",
    "    \n",
    "    os.makedirs(os.path.join(target_dir, 'Intensity.png.export/'),exist_ok=True)\n",
    "\n",
    "    for i,fname in enumerate(fnames_tif):\n",
    "#         print()\n",
    "        data = io.imread(fname)\n",
    "        print(fname_stub+'%03d' % i, data.shape)\n",
    "        \n",
    "        # io.imsave(os.path.join(target_dir, fname_stub+'%03d.png' % i),data)\n",
    "        imageio.imwrite(os.path.join(target_dir, fname_stub+'%03d.png' % i),data, format='PNG-FI')\n",
    "\n",
    "        \n",
    "base_dir = 'datasets/SR1/'\n",
    "specific_ds = 'Export - Original Channel tiff Stack/'\n",
    "export_sr_tifs(os.path.join(base_dir,specific_ds,'Intensity.png.export/'),\n",
    "               os.path.join(base_dir,specific_ds))\n",
    "\n",
    "\n",
    "#     im = io.imread(fname_tif)\n",
    "#     print('Data shape:', im.shape)\n",
    "\n",
    "#     n_channels = len(im)\n",
    "#     if as_colors is None:\n",
    "#         as_colors = list(range(3))\n",
    "#         as_colors[1] = 1 if n_channels > 1 else 0\n",
    "#         as_colors[2] = 2 if n_channels > 2 else 0\n",
    "#     print('Using channel colors:', as_colors)\n",
    "\n",
    "#     im = np.transpose(im, axes=[1,2,3,0])\n",
    "\n",
    "#     for i in tqdm(range(len(im))):\n",
    "#         data = np.array(im[i][:,:,as_colors],dtype=np.uint16)*16\n",
    "#         # io.imsave(os.path.join(target_dir, fname_stub+'%03d.png' % i),data)\n",
    "#         imageio.imwrite(os.path.join(target_dir, fname_stub+'%03d.png' % i),data, format='PNG-FI')\n",
    "\n",
    "#     # target_dir = os.path.join('datasets/AFM Test 100x/AFM Test 2 - LMNA(g) Actin(r).export/', 'Intensity.png.export')\n",
    "#     # im = Image.open(os.path.join('datasets/AFM Test 100x/AFM Test 2 - LMNA(g) Actin(r).export/', 'Intensity.tif.export',\n",
    "#     #                              \"Intensity_45Z_CH.ome.tif\"))\n"
   ]
  },
  {
   "cell_type": "code",
   "execution_count": null,
   "metadata": {},
   "outputs": [],
   "source": []
  },
  {
   "cell_type": "code",
   "execution_count": 6,
   "metadata": {},
   "outputs": [
    {
     "ename": "SyntaxError",
     "evalue": "invalid syntax (<ipython-input-6-a33cf8caced4>, line 15)",
     "output_type": "error",
     "traceback": [
      "\u001b[0;36m  File \u001b[0;32m\"<ipython-input-6-a33cf8caced4>\"\u001b[0;36m, line \u001b[0;32m15\u001b[0m\n\u001b[0;31m    globular_full = os.path.join(base_dir,specific_ds,'Intensity.png.export/Intensity*.png') #'AFM Test 100x/AFM Oversampling - Deconvolution/Intensity.png.export/*.png'\u001b[0m\n\u001b[0m    ^\u001b[0m\n\u001b[0;31mSyntaxError\u001b[0m\u001b[0;31m:\u001b[0m invalid syntax\n"
     ]
    }
   ],
   "source": [
    "base_dir = 'datasets/SR1/'\n",
    "specific_ds = 'Export - Original Channel tiff Stack/'\n",
    "# break\n",
    "if False:\n",
    "    os.makedirs(os.path.join(base_dir,specific_ds,'Intensity.png.export/'),exist_ok=True)\n",
    "    export_sr_tifs(os.path.join(base_dir,specific_ds,'Intensity.png.export/'),\n",
    "                  os.path.join(base_dir,specific_ds,'Export_Nikon_Z01.tif'))\n",
    "#     confocal.export_tif(os.path.join(base_dir,specific_ds,'Intensity.png.export/'),\n",
    "#                     os.path.join(base_dir,specific_ds,'Intensity.tif.export/Intensity_30Z_2CH.ome.tif'),as_colors=[0,1,2])\n",
    "\n",
    "\n",
    "confocal.max_projection_tif(os.path.join(base_dir,specific_ds,'Intensity.tif.export/Intensity_30Z_2CH.ome.tif'), do_save=True,do_plot=True,\n",
    "                  destdir=os.path.join(base_dir,specific_ds), filedesc='afm_d1', as_colors=[1,1,0])\n",
    "\n",
    "globular_full = os.path.join(base_dir,specific_ds,'Intensity.png.export/Intensity*.png') #'AFM Test 100x/AFM Oversampling - Deconvolution/Intensity.png.export/*.png'\n",
    "print(len(glob.glob(globular_full)))\n",
    "destdir = os.path.join(base_dir,specific_ds)\n",
    "os.makedirs(os.path.join(destdir, 'objects'), exist_ok=True)\n",
    "desc = 'afm_d1'\n",
    "if True:\n",
    "    confocal.max_projection(globular_full, do_plot=True, do_save=True, destdir=destdir, \n",
    "                    filedesc=desc,as_colors=[0,1,1])\n",
    "plt.show()"
   ]
  },
  {
   "cell_type": "code",
   "execution_count": null,
   "metadata": {},
   "outputs": [],
   "source": [
    "fnames = glob.glob('datasets/SR1/Export - RGB Merge tiff Stack/*.tif')\n",
    "print(len(fnames))\n",
    "print(fnames[0])"
   ]
  },
  {
   "cell_type": "code",
   "execution_count": 10,
   "metadata": {},
   "outputs": [
    {
     "name": "stderr",
     "output_type": "stream",
     "text": [
      "OME series: incompatible page shape (2048, 2048, 3); expected (3, 2048, 2048)\n"
     ]
    }
   ],
   "source": [
    "\n",
    "im = io.imread(fnames[0])"
   ]
  },
  {
   "cell_type": "code",
   "execution_count": 15,
   "metadata": {},
   "outputs": [
    {
     "data": {
      "text/plain": [
       "<matplotlib.image.AxesImage at 0x137a6deb0>"
      ]
     },
     "execution_count": 15,
     "metadata": {},
     "output_type": "execute_result"
    },
    {
     "data": {
      "image/png": "[encoded data removed]",
      "text/plain": [
       "<Figure size 432x288 with 1 Axes>"
      ]
     },
     "metadata": {
      "needs_background": "light"
     },
     "output_type": "display_data"
    }
   ],
   "source": [
    "plt.imshow(im[:,:,0])"
   ]
  },
  {
   "cell_type": "code",
   "execution_count": 17,
   "metadata": {},
   "outputs": [
    {
     "data": {
      "text/plain": [
       "255"
      ]
     },
     "execution_count": 17,
     "metadata": {},
     "output_type": "execute_result"
    }
   ],
   "source": [
    "np.max(im)"
   ]
  },
  {
   "cell_type": "code",
   "execution_count": null,
   "metadata": {},
   "outputs": [],
   "source": [
    "fnames_tif = list(sorted(glob.glob(os.path.join(folder,stub))))"
   ]
  }
 ],
 "metadata": {
  "kernelspec": {
   "display_name": "Python 3",
   "language": "python",
   "name": "python3"
  },
  "language_info": {
   "codemirror_mode": {
    "name": "ipython",
    "version": 3
   },
   "file_extension": ".py",
   "mimetype": "text/x-python",
   "name": "python",
   "nbconvert_exporter": "python",
   "pygments_lexer": "ipython3",
   "version": "3.8.5"
  }
 },
 "nbformat": 4,
 "nbformat_minor": 4
}
